{
 "cells": [
  {
   "cell_type": "code",
   "execution_count": 1,
   "metadata": {},
   "outputs": [],
   "source": [
    "class Asmuo():\n",
    "    pass"
   ]
  },
  {
   "cell_type": "code",
   "execution_count": 9,
   "metadata": {},
   "outputs": [
    {
     "name": "stdout",
     "output_type": "stream",
     "text": [
      "Aš kątik atsiradau\n",
      "Aš kątik atsiradau\n",
      "<class '__main__.Asmuo'>\n",
      "<class '__main__.Asmuo'>\n"
     ]
    }
   ],
   "source": [
    "a1 = Asmuo()\n",
    "a2 = Asmuo()\n",
    "\n",
    "print(type(a1), type(a2), sep='\\n')"
   ]
  },
  {
   "cell_type": "code",
   "execution_count": 8,
   "metadata": {},
   "outputs": [],
   "source": [
    "#metodas:\n",
    "\n",
    "Name = 'Petriukas'\n",
    "class Asmuo():\n",
    "    def __init__(self):\n",
    "        print('Aš kątik atsiradau')\n",
    "        self.Name = 'Jonukas' #klasės atributas. ,t.y. kintamasis klasės viduje\n",
    "        pass\n",
    "\n",
    "    def printName(self):\n",
    "        print(Name)\n",
    "        print(self.Name)"
   ]
  },
  {
   "cell_type": "code",
   "execution_count": 10,
   "metadata": {},
   "outputs": [
    {
     "name": "stdout",
     "output_type": "stream",
     "text": [
      "Petriukas\n",
      "Jonukas\n"
     ]
    }
   ],
   "source": [
    "a1.printName()"
   ]
  },
  {
   "cell_type": "code",
   "execution_count": 11,
   "metadata": {},
   "outputs": [],
   "source": [
    "#metodas:\n",
    "\n",
    "class Asmuo():\n",
    "    def __init__(self, name):\n",
    "        self.Name = name #klasės atributas. ,t.y. kintamasis klasės viduje\n",
    "        pass\n",
    "\n",
    "    def printName(self):\n",
    "        print(self.Name)"
   ]
  },
  {
   "cell_type": "code",
   "execution_count": 12,
   "metadata": {},
   "outputs": [
    {
     "name": "stdout",
     "output_type": "stream",
     "text": [
      "<class '__main__.Asmuo'>\n",
      "<class '__main__.Asmuo'>\n"
     ]
    }
   ],
   "source": [
    "a1 = Asmuo('Jonukas')\n",
    "a2 = Asmuo('Petriukas')\n",
    "\n",
    "print(type(a1), type(a2), sep='\\n')"
   ]
  },
  {
   "cell_type": "code",
   "execution_count": 13,
   "metadata": {},
   "outputs": [
    {
     "name": "stdout",
     "output_type": "stream",
     "text": [
      "Jonukas\n",
      "Petriukas\n"
     ]
    }
   ],
   "source": [
    "a1.printName()\n",
    "a2.printName()"
   ]
  },
  {
   "cell_type": "code",
   "execution_count": 46,
   "metadata": {},
   "outputs": [],
   "source": [
    "#metodas:\n",
    "\n",
    "class Asmuo():\n",
    "    def __init__(self, name, gm):\n",
    "        self.Name = name #klasės atributas. ,t.y. kintamasis klasės viduje\n",
    "        self.BYear = gm\n",
    "        # self.Age = 2024 - self.BYear\n",
    "        self.Age = self.calculateAge()\n",
    "        pass\n",
    "\n",
    "    def getName(self):\n",
    "        return self.Name\n",
    "    \n",
    "    def setName(self, new_name):\n",
    "        self.Name = new_name\n",
    "    def calculateAge(self):\n",
    "        return 2024-self.BYear"
   ]
  },
  {
   "cell_type": "code",
   "execution_count": 43,
   "metadata": {},
   "outputs": [
    {
     "ename": "TypeError",
     "evalue": "Asmuo.__init__() missing 1 required positional argument: 'gm'",
     "output_type": "error",
     "traceback": [
      "\u001b[1;31m---------------------------------------------------------------------------\u001b[0m",
      "\u001b[1;31mTypeError\u001b[0m                                 Traceback (most recent call last)",
      "Cell \u001b[1;32mIn[43], line 1\u001b[0m\n\u001b[1;32m----> 1\u001b[0m a1 \u001b[38;5;241m=\u001b[39m \u001b[43mAsmuo\u001b[49m\u001b[43m(\u001b[49m\u001b[38;5;124;43m'\u001b[39;49m\u001b[38;5;124;43mJonukas\u001b[39;49m\u001b[38;5;124;43m'\u001b[39;49m\u001b[43m)\u001b[49m\n\u001b[0;32m      2\u001b[0m ats \u001b[38;5;241m=\u001b[39m a1\u001b[38;5;241m.\u001b[39mgetName()\n\u001b[0;32m      3\u001b[0m \u001b[38;5;28mprint\u001b[39m(ats)\n",
      "\u001b[1;31mTypeError\u001b[0m: Asmuo.__init__() missing 1 required positional argument: 'gm'"
     ]
    }
   ],
   "source": [
    "a1 = Asmuo('Jonukas')\n",
    "ats = a1.getName()\n",
    "print(ats)\n",
    "a1.Name = 'Marytė'\n",
    "print(a1.getName())\n",
    "a1.setName('Jonukas')\n",
    "print(a1.getName())"
   ]
  },
  {
   "cell_type": "code",
   "execution_count": 47,
   "metadata": {},
   "outputs": [
    {
     "name": "stdout",
     "output_type": "stream",
     "text": [
      "28 Vardenis\n"
     ]
    }
   ],
   "source": [
    "a1 = Asmuo('Vardenis', 1996)\n",
    "print(a1.Age, a1.getName())"
   ]
  },
  {
   "cell_type": "code",
   "execution_count": 48,
   "metadata": {},
   "outputs": [],
   "source": [
    "# paveldėjimas\n",
    "\n",
    "class Studentas(Asmuo):\n",
    "    def getStatus(self):\n",
    "        return 'Studentas'"
   ]
  },
  {
   "cell_type": "code",
   "execution_count": 49,
   "metadata": {},
   "outputs": [],
   "source": [
    "std1 = Studentas('Unė', 1992)"
   ]
  },
  {
   "cell_type": "code",
   "execution_count": 50,
   "metadata": {},
   "outputs": [
    {
     "name": "stdout",
     "output_type": "stream",
     "text": [
      "32 Unė Studentas\n"
     ]
    }
   ],
   "source": [
    "print(std1.Age, std1.getName(), std1.getStatus())"
   ]
  },
  {
   "cell_type": "code",
   "execution_count": 51,
   "metadata": {},
   "outputs": [],
   "source": [
    "class Studentas(Asmuo):\n",
    "    def __init__(self, name, gm):\n",
    "        super().__init__(name, gm)\n",
    "        self.Enroll = True\n",
    "\n",
    "std1 = Studentas('Unė', 1996)"
   ]
  },
  {
   "cell_type": "code",
   "execution_count": 52,
   "metadata": {},
   "outputs": [
    {
     "data": {
      "text/plain": [
       "28"
      ]
     },
     "execution_count": 52,
     "metadata": {},
     "output_type": "execute_result"
    }
   ],
   "source": [
    "print(std1.Age)"
   ]
  },
  {
   "cell_type": "code",
   "execution_count": 53,
   "metadata": {},
   "outputs": [],
   "source": [
    "# aprašykite klasę Kvadratas\n",
    "# kreipiantis į klasę, reikia nurodyti kvadrato ilgį a.\n",
    "# Klasė turi turėti atributą Plotas, kurį \n",
    "# turi apskaičiuoti klasės kūrimo metu.\n",
    "# Plotas = a*a\n",
    "# parašykite metodą, kuris grąžintų apskaičiuoto Plotas atributo reikšmę.\n",
    "\n",
    "class Kvadratas():\n",
    "    def __init__(self, a):\n",
    "        self.ilgis = a\n",
    "        self.plotas = self.CalculatePlotas()\n",
    "    \n",
    "    def CalculatePlotas(self):\n",
    "        return self.ilgis**2"
   ]
  },
  {
   "cell_type": "code",
   "execution_count": 55,
   "metadata": {},
   "outputs": [
    {
     "name": "stdout",
     "output_type": "stream",
     "text": [
      "400\n"
     ]
    }
   ],
   "source": [
    "kambario_plotas = Kvadratas(20)\n",
    "print(kambario_plotas.plotas)"
   ]
  },
  {
   "cell_type": "code",
   "execution_count": 60,
   "metadata": {},
   "outputs": [],
   "source": [
    "# aprašykite klasę Kvadratas\n",
    "# kreipiantis į klasę, reikia nurodyti kvadrato ilgį a.\n",
    "# Klasė turi turėti atributą Plotas, kurį \n",
    "# turi apskaičiuoti klasės kūrimo metu.\n",
    "# Plotas = a*a\n",
    "# parašykite metodą, kuris grąžintų apskaičiuoto Plotas atributo reikšmę.\n",
    "\n",
    "class Kvadratas():\n",
    "    def __init__(self, a):\n",
    "        self.plotas = a*a\n",
    "        self.perimetras = 4*a\n",
    "    \n",
    "    def CalculatePlotas(self):\n",
    "        return self.plotas\n",
    "    \n",
    "    def CalculatePerimetras(self):\n",
    "        return self.perimetras"
   ]
  },
  {
   "cell_type": "code",
   "execution_count": 69,
   "metadata": {},
   "outputs": [
    {
     "name": "stdout",
     "output_type": "stream",
     "text": [
      "400\n",
      "80\n"
     ]
    }
   ],
   "source": [
    "sklypas = Kvadratas(20)\n",
    "print(sklypas.plotas)\n",
    "print(sklypas.perimetras)"
   ]
  },
  {
   "cell_type": "code",
   "execution_count": 65,
   "metadata": {},
   "outputs": [],
   "source": [
    "# aprašykite klasę Rectangle\n",
    "# kreipiantis į klasę, reikia nurodyti stačiakampio\n",
    "# kraštines a ir b.\n",
    "# Realizuokite atributą Plotas = a*b\n",
    "# ir metodą, grąžinantį Ploto reikšmę\n",
    "# Taip pat pridėkite metodą, apskaičiuojantį ir grąžinantį\n",
    "# perimetrą P=2(a+b)\n",
    "\n",
    "class Rectangle():\n",
    "    def __init__(self, a, b):\n",
    "        self.plotas = a*b\n",
    "        self.perimetras = 2*(a+b)\n",
    "    \n",
    "    def CalculatePlotas(self):\n",
    "        return self.plotas\n",
    "    \n",
    "    def CalculatePerimetras(self):\n",
    "        return self.perimetras"
   ]
  },
  {
   "cell_type": "code",
   "execution_count": 70,
   "metadata": {},
   "outputs": [
    {
     "name": "stdout",
     "output_type": "stream",
     "text": [
      "200\n",
      "60\n"
     ]
    }
   ],
   "source": [
    "sklypas = Rectangle(20, 10)\n",
    "print(sklypas.plotas)\n",
    "print(sklypas.perimetras)"
   ]
  },
  {
   "cell_type": "code",
   "execution_count": 67,
   "metadata": {},
   "outputs": [],
   "source": [
    "# aprašykite klasę Cube (paviršiau plotas ir tūris)\n",
    "\n",
    "class Cube():\n",
    "    def __init__(self, a):\n",
    "        self.plotas = a**2*6\n",
    "        self.turis = a**3\n",
    "    \n",
    "    def CalculatePlotas(self):\n",
    "        return self.plotas\n",
    "    \n",
    "    def CalculateVolume(self):\n",
    "        return self.turis"
   ]
  },
  {
   "cell_type": "code",
   "execution_count": 71,
   "metadata": {},
   "outputs": [
    {
     "name": "stdout",
     "output_type": "stream",
     "text": [
      "600\n",
      "1000\n"
     ]
    }
   ],
   "source": [
    "kubas = Cube(10)\n",
    "print(kubas.plotas)\n",
    "print(kubas.turis)"
   ]
  },
  {
   "cell_type": "code",
   "execution_count": 93,
   "metadata": {},
   "outputs": [],
   "source": [
    "#susikurkite su Notepadu tekstinį failą su bet kokiu tekstu\n",
    "#parašykite klasę TxtReader, kuriai kreipimosimetu būtų nurodomas tekstinio failo pavadinimas;\n",
    "#klasės sukūrimo metu tas tekstinis failas turi būti nuskaitomas\n",
    "#ir nuskaitytas tekstas turi būti priskirtas atributui Text\n",
    "#parašykite metodą getText(), kuri grąžintų atributo text reikšmę\n",
    "\n",
    "class TxtReader():\n",
    "    def __init__(self, txt):\n",
    "        self.Text = open(txt, mode='r', encoding='utf-8').read()\n",
    "    \n",
    "    def getText(self):\n",
    "        return self.Text"
   ]
  },
  {
   "cell_type": "code",
   "execution_count": 94,
   "metadata": {},
   "outputs": [
    {
     "name": "stdout",
     "output_type": "stream",
     "text": [
      "Lietuva, Tėvyne mūsų\n",
      "Tu didvyrių žeme,\n",
      "Iš praeities Tavo sūnūs\n",
      "Te stiprybę semia.\n",
      "\n",
      "Tegul Tavo vaikai eina\n",
      "Vien takais dorybės\n",
      "Tegul dirba Tavo naudai\n",
      "Ir žmonių gėrybei.\n",
      "\n",
      "Tegul saulė Lietuvoj\n",
      "Tamsumas prašalina,\n",
      "Ir šviesa, ir tiesa\n",
      "Mūs žingsnius telydi.\n",
      "\n",
      "Tegul meilė Lietuvos\n",
      "Dega mūsų širdyse,\n",
      "Vardan tos Lietuvos\n",
      "Vienybė težydi!\n"
     ]
    }
   ],
   "source": [
    "tekstas = TxtReader('h.txt')\n",
    "print(tekstas.getText())"
   ]
  },
  {
   "cell_type": "code",
   "execution_count": 105,
   "metadata": {},
   "outputs": [],
   "source": [
    "#parašykite klasę TxtAnalyzer, kuriai kreipimosi metu galima būtų\n",
    "# nurodyti failo pavadinimą ir stulpelių skirtuką.\n",
    "#klasė sukūrimo metu turi nuskaityti failą, stulpelius skaičių suskirstyti\n",
    "# į sąrašus ir juos priskirti atributams X, Y ir Z.\n",
    "#Realizuokite metodus, kurie grąžintų X, Y, Z sąrašų vidurkius, minimalias\n",
    "# ir maksimalias vertes. Pythone yra min, max, sum funkcijos;\n",
    "\n",
    "class TxtAnalyzer():\n",
    "    def __init__(self, failas, skirtukas):\n",
    "        self.turinys = open(failas, mode='r', encoding='utf-8').readlines()\n",
    "        self.X = [float(eilute.split(skirtukas)[0]) for eilute in self.turinys]\n",
    "        self.Y = [float(eilute.split(skirtukas)[1]) for eilute in self.turinys]\n",
    "        self.Z = [float(eilute.split(skirtukas)[2]) for eilute in self.turinys]\n",
    "    def list_min(self):\n",
    "        return min(self.X), min(self.Y), min(self.Z)\n",
    "    def list_max(self):\n",
    "        return max(self.X), max(self.Y), max(self.Z)\n",
    "    def list_avg(self):\n",
    "        return sum(self.X)/len(self.X), sum(self.Y)/len(self.Y), sum(self.Z)/len(self.Z)"
   ]
  },
  {
   "cell_type": "code",
   "execution_count": 107,
   "metadata": {},
   "outputs": [
    {
     "name": "stdout",
     "output_type": "stream",
     "text": [
      "1.0\n",
      "0.0062\n",
      "0.2653\n",
      "49.7\n",
      "0.484531\n",
      "21.949302\n"
     ]
    }
   ],
   "source": [
    "failas = TxtAnalyzer('data1.txt', ';')\n",
    "a, b, c = failas.list_min()\n",
    "print(a, b, c, sep='\\n')\n",
    "d, e, f = failas.list_avg()\n",
    "print(d, e, f, sep='\\n')"
   ]
  },
  {
   "cell_type": "code",
   "execution_count": 108,
   "metadata": {},
   "outputs": [],
   "source": [
    "#Sukurkite klasę Rutulys\n",
    "#kuriai galėtumėte nurodyti Rutulio spindulį r.\n",
    "#Sukurkite metodus, skirtus rasti jo Tūriui ir paviršiaus plotui;\n",
    "#Taip pat metodą, kuriuo jūs pakeistumėte spindulio r reikšmę.\n",
    "\n",
    "class Sphere():\n",
    "    def __init__(self, r):\n",
    "        self.radius = r\n",
    "    \n",
    "    def GetVolume(self):\n",
    "        return 4/3*3.14*self.radius**3\n",
    "    \n",
    "    def GetSurfaceArea(self):\n",
    "        return 4*3.14*self.radius**2\n",
    "    \n",
    "    def SetRadius(self, new_radius):\n",
    "        self.radius = new_radius"
   ]
  },
  {
   "cell_type": "code",
   "execution_count": 111,
   "metadata": {},
   "outputs": [
    {
     "name": "stdout",
     "output_type": "stream",
     "text": [
      "14130.0\n",
      "2826.0\n",
      "33493.333333333336\n",
      "5024.0\n"
     ]
    }
   ],
   "source": [
    "rutulys = Sphere(15)\n",
    "print(rutulys.GetVolume(), rutulys.GetSurfaceArea(), sep='\\n')\n",
    "rutulys.SetRadius(20)\n",
    "print(rutulys.GetVolume(), rutulys.GetSurfaceArea(), sep='\\n')"
   ]
  },
  {
   "cell_type": "code",
   "execution_count": 162,
   "metadata": {},
   "outputs": [
    {
     "name": "stdout",
     "output_type": "stream",
     "text": [
      "200\n",
      "210\n",
      "70.0\n"
     ]
    }
   ],
   "source": [
    "#užduotis su paveldjimu:\n",
    "#parašykite klasę Rectangle, kurioje būtų ilgio ir pločio atributai, bei du metodai - getS - plotui ir getP -erimetrui rasti\n",
    "#Sukurkite išvestinę (child) klasę Kubas, kuri papildomai turėtų Tūrio skaičiavimo metodą\n",
    "#• Klasę Piramidė - išvestinė klasė (child class). Pridėkite\n",
    "# papildomą funkcionalumą - metodą, argumentus piramidės\n",
    "# tūrio skaičiavimui.\n",
    "\n",
    "a=()\n",
    "b=()\n",
    "c=()\n",
    "\n",
    "\n",
    "class Rectangle():\n",
    "    def __init__(self, a, b):\n",
    "        self.plotas = a*b\n",
    "        self.perimetras = 2*(a+b)\n",
    "    \n",
    "    def CalculatePlotas(self):\n",
    "        return self.plotas\n",
    "    \n",
    "    def CalculatePerimetras(self):\n",
    "        return self.perimetras\n",
    "\n",
    "class Kubas(Rectangle):\n",
    "    def __init__(self, a, b, c):\n",
    "        super().__init__(a, b)\n",
    "        self.turis = a*b*c\n",
    "    def CalculateTuris(self):\n",
    "        return self.turis\n",
    "\n",
    "staciakampis = Rectangle(10,20)\n",
    "gretasienis = Kubas(5,6,7)\n",
    "\n",
    "print(staciakampis.CalculatePlotas(), gretasienis.CalculateTuris(), sep='\\n')\n",
    "\n",
    "class Pyramid(Kubas):\n",
    "    def CalculateTuris(self):\n",
    "        return self.turis/3\n",
    "\n",
    "piramide = Pyramid(5,6,7)\n",
    "print(piramide.CalculateTuris())"
   ]
  },
  {
   "cell_type": "code",
   "execution_count": null,
   "metadata": {},
   "outputs": [],
   "source": [
    "#Parašykite klasę Apskritimas, kuriai glite nurodyti apskritimo spindulį r.\n",
    "# Erealizuokite du metodus getS ir getP, plotui ir perimetrui gražinti.\n",
    "\n",
    "#advanced Apskritimas:\n",
    "#padarykite taip, jog klasė Apskritimas turėtų atributus S ir P, plotui ir perimetrui, ir kad atnaujinus spindulį r, automatiškai pasikeistų S ir P atributų reikšmės, o getS, getP metodai, kaip ir anksčiau grąžintų S ir P atributų reikšmes.\n",
    "\n",
    "#advanced Apskritimas:\n",
    "#padarykite taip, jog klasė Apskritimas turėtų atributus S ir P, plotui ir perimetrui, \n",
    "# ir kad atnaujinus spindulį r, automatiškai pasikeistų S ir P atributų reikšmės, o getS, \n",
    "# getP metodai, kaip ir anksčiau grąžintų S ir P atributų reikšmes.\n",
    "class Apskritimas():\n",
    "    def __init__(self, r):\n",
    "        self.r = r\n",
    "        self.S = 2*3.14*r**2\n",
    "        self.P = 2*3.14*r\n",
    "        \n",
    "    def getS(self):\n",
    "        return self.S\n",
    "    \n",
    "    def getP (self):\n",
    "        return self.P\n",
    "    \n",
    "    def change (self, new_r):\n",
    "        self.r = new_r\n",
    "        self.S = 2*3.14*new_r**2\n",
    "        self.P = 2*3.14*new_r\n",
    "    \n",
    "aps = Apskritimas(5)\n",
    "print(aps.getS())\n",
    "print(aps.getP())\n",
    "aps.change(10)\n",
    "print(aps.getS())\n",
    "print(aps.getP())"
   ]
  },
  {
   "cell_type": "code",
   "execution_count": null,
   "metadata": {},
   "outputs": [],
   "source": [
    "#advanced Apskritimas:\n",
    "#padarykite taip, jog klasė Apskritimas turėtų atributus S ir P, plotui ir perimetrui, \n",
    "# ir kad atnaujinus spindulį r, automatiškai pasikeistų S ir P atributų reikšmės, o getS, \n",
    "# getP metodai, kaip ir anksčiau grąžintų S ir P atributų reikšmes.\n",
    "\n",
    "class Apskritimas():\n",
    "    def __init__(self, r):\n",
    "        self.R = r\n",
    "        self.S = 0\n",
    "        self.P = 0\n",
    "        self.upadeAll()\n",
    "    \n",
    "    def getP(self):\n",
    "        return self.P\n",
    "    \n",
    "    def getS(self):\n",
    "        return self.S\n",
    "    \n",
    "    def upadeAll(self):\n",
    "        self.S = 3.14*self.R**2\n",
    "        self.P = 2*3.14*self.R\n",
    "        \n",
    "    def change(self, new_r):\n",
    "        self.R = new_r\n",
    "        self.upadeAll()\n",
    "\n",
    "a = Apskritimas(5)\n",
    "print(a.getP(), a.getS())\n",
    "a.change(10)\n",
    "print(a.getP(), a.getS())"
   ]
  },
  {
   "cell_type": "code",
   "execution_count": 7,
   "metadata": {},
   "outputs": [
    {
     "name": "stdout",
     "output_type": "stream",
     "text": [
      "Toyota turi 10 sėdimų vietų\n",
      "Volvo turi 50 sėdimų vietų\n",
      "LG turi 100 sėdimų vietų\n"
     ]
    }
   ],
   "source": [
    "#su paveldėjimu:\n",
    "# Sukurkite klasę Vehicle su tokiais atributais - Pavadinimas, Rida\n",
    "#Sukurkite išvestines klases Car, Bus, Train, kurie paveldėtų viską iš Vehicle,\n",
    "# ir papildomai būtų galima nurodyti Seats - sėdimų vietų skaičių,\n",
    "# ir visi turėtų metoda GetSeats() grąžinantį tekstą: <Pavadinimas> turi <Seats> sėdimų vietų.\n",
    "\n",
    "class Vehicle():\n",
    "    def __init__(self, a, b):\n",
    "        self.pavadinimas = a\n",
    "        self.rida = b\n",
    "\n",
    "class Car(Vehicle):\n",
    "    def __init__(self, a, b, c):\n",
    "        super().__init__(a, b)\n",
    "        self.vietos = c\n",
    "    def GetSeats(self):\n",
    "        return f'{self.pavadinimas} turi {self.vietos} sėdimų vietų'\n",
    "    \n",
    "class Bus(Vehicle):\n",
    "    def __init__(self, a, b, c):\n",
    "        super().__init__(a, b)\n",
    "        self.vietos = c\n",
    "    def GetSeats(self):\n",
    "        return f'{self.pavadinimas} turi {self.vietos} sėdimų vietų'\n",
    "    \n",
    "class Train(Vehicle):\n",
    "    def __init__(self, a, b, c):\n",
    "        super().__init__(a, b)\n",
    "        self.vietos = c\n",
    "    def GetSeats(self):\n",
    "        return f'{self.pavadinimas} turi {self.vietos} sėdimų vietų'\n",
    "\n",
    "vehicle1 = Car('Toyota', 300000, 10)\n",
    "vehicle2 = Bus('Volvo', 500000, 50)\n",
    "vehicle3 = Train('LG', 400000, 100)\n",
    "print(vehicle1.GetSeats(), vehicle2.GetSeats(), vehicle3.GetSeats(), sep='\\n')"
   ]
  }
 ],
 "metadata": {
  "kernelspec": {
   "display_name": "Python 3",
   "language": "python",
   "name": "python3"
  },
  "language_info": {
   "codemirror_mode": {
    "name": "ipython",
    "version": 3
   },
   "file_extension": ".py",
   "mimetype": "text/x-python",
   "name": "python",
   "nbconvert_exporter": "python",
   "pygments_lexer": "ipython3",
   "version": "3.12.2"
  }
 },
 "nbformat": 4,
 "nbformat_minor": 2
}
