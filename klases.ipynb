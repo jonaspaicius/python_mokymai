{
 "cells": [
  {
   "cell_type": "code",
   "execution_count": 1,
   "metadata": {},
   "outputs": [],
   "source": [
    "class Asmuo():\n",
    "    pass"
   ]
  },
  {
   "cell_type": "code",
   "execution_count": 9,
   "metadata": {},
   "outputs": [
    {
     "name": "stdout",
     "output_type": "stream",
     "text": [
      "Aš kątik atsiradau\n",
      "Aš kątik atsiradau\n",
      "<class '__main__.Asmuo'>\n",
      "<class '__main__.Asmuo'>\n"
     ]
    }
   ],
   "source": [
    "a1 = Asmuo()\n",
    "a2 = Asmuo()\n",
    "\n",
    "print(type(a1), type(a2), sep='\\n')"
   ]
  },
  {
   "cell_type": "code",
   "execution_count": 8,
   "metadata": {},
   "outputs": [],
   "source": [
    "#metodas:\n",
    "\n",
    "Name = 'Petriukas'\n",
    "class Asmuo():\n",
    "    def __init__(self):\n",
    "        print('Aš kątik atsiradau')\n",
    "        self.Name = 'Jonukas' #klasės atributas. ,t.y. kintamasis klasės viduje\n",
    "        pass\n",
    "\n",
    "    def printName(self):\n",
    "        print(Name)\n",
    "        print(self.Name)"
   ]
  },
  {
   "cell_type": "code",
   "execution_count": 10,
   "metadata": {},
   "outputs": [
    {
     "name": "stdout",
     "output_type": "stream",
     "text": [
      "Petriukas\n",
      "Jonukas\n"
     ]
    }
   ],
   "source": [
    "a1.printName()"
   ]
  },
  {
   "cell_type": "code",
   "execution_count": 11,
   "metadata": {},
   "outputs": [],
   "source": [
    "#metodas:\n",
    "\n",
    "class Asmuo():\n",
    "    def __init__(self, name):\n",
    "        self.Name = name #klasės atributas. ,t.y. kintamasis klasės viduje\n",
    "        pass\n",
    "\n",
    "    def printName(self):\n",
    "        print(self.Name)"
   ]
  },
  {
   "cell_type": "code",
   "execution_count": 12,
   "metadata": {},
   "outputs": [
    {
     "name": "stdout",
     "output_type": "stream",
     "text": [
      "<class '__main__.Asmuo'>\n",
      "<class '__main__.Asmuo'>\n"
     ]
    }
   ],
   "source": [
    "a1 = Asmuo('Jonukas')\n",
    "a2 = Asmuo('Petriukas')\n",
    "\n",
    "print(type(a1), type(a2), sep='\\n')"
   ]
  },
  {
   "cell_type": "code",
   "execution_count": 13,
   "metadata": {},
   "outputs": [
    {
     "name": "stdout",
     "output_type": "stream",
     "text": [
      "Jonukas\n",
      "Petriukas\n"
     ]
    }
   ],
   "source": [
    "a1.printName()\n",
    "a2.printName()"
   ]
  },
  {
   "cell_type": "code",
   "execution_count": 46,
   "metadata": {},
   "outputs": [],
   "source": [
    "#metodas:\n",
    "\n",
    "class Asmuo():\n",
    "    def __init__(self, name, gm):\n",
    "        self.Name = name #klasės atributas. ,t.y. kintamasis klasės viduje\n",
    "        self.BYear = gm\n",
    "        # self.Age = 2024 - self.BYear\n",
    "        self.Age = self.calculateAge()\n",
    "        pass\n",
    "\n",
    "    def getName(self):\n",
    "        return self.Name\n",
    "    \n",
    "    def setName(self, new_name):\n",
    "        self.Name = new_name\n",
    "    def calculateAge(self):\n",
    "        return 2024-self.BYear"
   ]
  },
  {
   "cell_type": "code",
   "execution_count": 43,
   "metadata": {},
   "outputs": [
    {
     "ename": "TypeError",
     "evalue": "Asmuo.__init__() missing 1 required positional argument: 'gm'",
     "output_type": "error",
     "traceback": [
      "\u001b[1;31m---------------------------------------------------------------------------\u001b[0m",
      "\u001b[1;31mTypeError\u001b[0m                                 Traceback (most recent call last)",
      "Cell \u001b[1;32mIn[43], line 1\u001b[0m\n\u001b[1;32m----> 1\u001b[0m a1 \u001b[38;5;241m=\u001b[39m \u001b[43mAsmuo\u001b[49m\u001b[43m(\u001b[49m\u001b[38;5;124;43m'\u001b[39;49m\u001b[38;5;124;43mJonukas\u001b[39;49m\u001b[38;5;124;43m'\u001b[39;49m\u001b[43m)\u001b[49m\n\u001b[0;32m      2\u001b[0m ats \u001b[38;5;241m=\u001b[39m a1\u001b[38;5;241m.\u001b[39mgetName()\n\u001b[0;32m      3\u001b[0m \u001b[38;5;28mprint\u001b[39m(ats)\n",
      "\u001b[1;31mTypeError\u001b[0m: Asmuo.__init__() missing 1 required positional argument: 'gm'"
     ]
    }
   ],
   "source": [
    "a1 = Asmuo('Jonukas')\n",
    "ats = a1.getName()\n",
    "print(ats)\n",
    "a1.Name = 'Marytė'\n",
    "print(a1.getName())\n",
    "a1.setName('Jonukas')\n",
    "print(a1.getName())"
   ]
  },
  {
   "cell_type": "code",
   "execution_count": 47,
   "metadata": {},
   "outputs": [
    {
     "name": "stdout",
     "output_type": "stream",
     "text": [
      "28 Vardenis\n"
     ]
    }
   ],
   "source": [
    "a1 = Asmuo('Vardenis', 1996)\n",
    "print(a1.Age, a1.getName())"
   ]
  },
  {
   "cell_type": "code",
   "execution_count": 48,
   "metadata": {},
   "outputs": [],
   "source": [
    "# paveldėjimas\n",
    "\n",
    "class Studentas(Asmuo):\n",
    "    def getStatus(self):\n",
    "        return 'Studentas'"
   ]
  },
  {
   "cell_type": "code",
   "execution_count": 49,
   "metadata": {},
   "outputs": [],
   "source": [
    "std1 = Studentas('Unė', 1992)"
   ]
  },
  {
   "cell_type": "code",
   "execution_count": 50,
   "metadata": {},
   "outputs": [
    {
     "name": "stdout",
     "output_type": "stream",
     "text": [
      "32 Unė Studentas\n"
     ]
    }
   ],
   "source": [
    "print(std1.Age, std1.getName(), std1.getStatus())"
   ]
  },
  {
   "cell_type": "code",
   "execution_count": 51,
   "metadata": {},
   "outputs": [],
   "source": [
    "class Studentas(Asmuo):\n",
    "    def __init__(self, name, gm):\n",
    "        super().__init__(name, gm)\n",
    "        self.Enroll = True\n",
    "\n",
    "std1 = Studentas('Unė', 1996)"
   ]
  },
  {
   "cell_type": "code",
   "execution_count": 52,
   "metadata": {},
   "outputs": [
    {
     "data": {
      "text/plain": [
       "28"
      ]
     },
     "execution_count": 52,
     "metadata": {},
     "output_type": "execute_result"
    }
   ],
   "source": [
    "print(std1.Age)"
   ]
  },
  {
   "cell_type": "code",
   "execution_count": 53,
   "metadata": {},
   "outputs": [],
   "source": [
    "# aprašykite klasę Kvadratas\n",
    "# kreipiantis į klasę, reikia nurodyti kvadrato ilgį a.\n",
    "# Klasė turi turėti atributą Plotas, kurį \n",
    "# turi apskaičiuoti klasės kūrimo metu.\n",
    "# Plotas = a*a\n",
    "# parašykite metodą, kuris grąžintų apskaičiuoto Plotas atributo reikšmę.\n",
    "\n",
    "class Kvadratas():\n",
    "    def __init__(self, a):\n",
    "        self.ilgis = a\n",
    "        self.plotas = self.CalculatePlotas()\n",
    "    \n",
    "    def CalculatePlotas(self):\n",
    "        return self.ilgis**2"
   ]
  },
  {
   "cell_type": "code",
   "execution_count": 55,
   "metadata": {},
   "outputs": [
    {
     "name": "stdout",
     "output_type": "stream",
     "text": [
      "400\n"
     ]
    }
   ],
   "source": [
    "kambario_plotas = Kvadratas(20)\n",
    "print(kambario_plotas.plotas)"
   ]
  },
  {
   "cell_type": "code",
   "execution_count": 60,
   "metadata": {},
   "outputs": [],
   "source": [
    "# aprašykite klasę Kvadratas\n",
    "# kreipiantis į klasę, reikia nurodyti kvadrato ilgį a.\n",
    "# Klasė turi turėti atributą Plotas, kurį \n",
    "# turi apskaičiuoti klasės kūrimo metu.\n",
    "# Plotas = a*a\n",
    "# parašykite metodą, kuris grąžintų apskaičiuoto Plotas atributo reikšmę.\n",
    "\n",
    "class Kvadratas():\n",
    "    def __init__(self, a):\n",
    "        self.plotas = a*a\n",
    "        self.perimetras = 4*a\n",
    "    \n",
    "    def CalculatePlotas(self):\n",
    "        return self.plotas\n",
    "    \n",
    "    def CalculatePerimetras(self):\n",
    "        return self.perimetras"
   ]
  },
  {
   "cell_type": "code",
   "execution_count": 69,
   "metadata": {},
   "outputs": [
    {
     "name": "stdout",
     "output_type": "stream",
     "text": [
      "400\n",
      "80\n"
     ]
    }
   ],
   "source": [
    "sklypas = Kvadratas(20)\n",
    "print(sklypas.plotas)\n",
    "print(sklypas.perimetras)"
   ]
  },
  {
   "cell_type": "code",
   "execution_count": 65,
   "metadata": {},
   "outputs": [],
   "source": [
    "# aprašykite klasę Rectangle\n",
    "# kreipiantis į klasę, reikia nurodyti stačiakampio\n",
    "# kraštines a ir b.\n",
    "# Realizuokite atributą Plotas = a*b\n",
    "# ir metodą, grąžinantį Ploto reikšmę\n",
    "# Taip pat pridėkite metodą, apskaičiuojantį ir grąžinantį\n",
    "# perimetrą P=2(a+b)\n",
    "\n",
    "class Rectangle():\n",
    "    def __init__(self, a, b):\n",
    "        self.plotas = a*b\n",
    "        self.perimetras = 2*(a+b)\n",
    "    \n",
    "    def CalculatePlotas(self):\n",
    "        return self.plotas\n",
    "    \n",
    "    def CalculatePerimetras(self):\n",
    "        return self.perimetras"
   ]
  },
  {
   "cell_type": "code",
   "execution_count": 70,
   "metadata": {},
   "outputs": [
    {
     "name": "stdout",
     "output_type": "stream",
     "text": [
      "200\n",
      "60\n"
     ]
    }
   ],
   "source": [
    "sklypas = Rectangle(20, 10)\n",
    "print(sklypas.plotas)\n",
    "print(sklypas.perimetras)"
   ]
  },
  {
   "cell_type": "code",
   "execution_count": 67,
   "metadata": {},
   "outputs": [],
   "source": [
    "# aprašykite klasę Cube (paviršiau plotas ir tūris)\n",
    "\n",
    "class Cube():\n",
    "    def __init__(self, a):\n",
    "        self.plotas = a**2*6\n",
    "        self.turis = a**3\n",
    "    \n",
    "    def CalculatePlotas(self):\n",
    "        return self.plotas\n",
    "    \n",
    "    def CalculateVolume(self):\n",
    "        return self.turis"
   ]
  },
  {
   "cell_type": "code",
   "execution_count": 71,
   "metadata": {},
   "outputs": [
    {
     "name": "stdout",
     "output_type": "stream",
     "text": [
      "600\n",
      "1000\n"
     ]
    }
   ],
   "source": [
    "kubas = Cube(10)\n",
    "print(kubas.plotas)\n",
    "print(kubas.turis)"
   ]
  },
  {
   "cell_type": "code",
   "execution_count": 93,
   "metadata": {},
   "outputs": [],
   "source": [
    "#susikurkite su Notepadu tekstinį failą su bet kokiu tekstu\n",
    "#parašykite klasę TxtReader, kuriai kreipimosimetu būtų nurodomas tekstinio failo pavadinimas;\n",
    "#klasės sukūrimo metu tas tekstinis failas turi būti nuskaitomas\n",
    "#ir nuskaitytas tekstas turi būti priskirtas atributui Text\n",
    "#parašykite metodą getText(), kuri grąžintų atributo text reikšmę\n",
    "\n",
    "class TxtReader():\n",
    "    def __init__(self, txt):\n",
    "        self.Text = open(txt, mode='r', encoding='utf-8').read()\n",
    "    \n",
    "    def getText(self):\n",
    "        return self.Text"
   ]
  },
  {
   "cell_type": "code",
   "execution_count": 94,
   "metadata": {},
   "outputs": [
    {
     "name": "stdout",
     "output_type": "stream",
     "text": [
      "Lietuva, Tėvyne mūsų\n",
      "Tu didvyrių žeme,\n",
      "Iš praeities Tavo sūnūs\n",
      "Te stiprybę semia.\n",
      "\n",
      "Tegul Tavo vaikai eina\n",
      "Vien takais dorybės\n",
      "Tegul dirba Tavo naudai\n",
      "Ir žmonių gėrybei.\n",
      "\n",
      "Tegul saulė Lietuvoj\n",
      "Tamsumas prašalina,\n",
      "Ir šviesa, ir tiesa\n",
      "Mūs žingsnius telydi.\n",
      "\n",
      "Tegul meilė Lietuvos\n",
      "Dega mūsų širdyse,\n",
      "Vardan tos Lietuvos\n",
      "Vienybė težydi!\n"
     ]
    }
   ],
   "source": [
    "tekstas = TxtReader('h.txt')\n",
    "print(tekstas.getText())"
   ]
  },
  {
   "cell_type": "code",
   "execution_count": 105,
   "metadata": {},
   "outputs": [],
   "source": [
    "#parašykite klasę TxtAnalyzer, kuriai kreipimosi metu galima būtų\n",
    "# nurodyti failo pavadinimą ir stulpelių skirtuką.\n",
    "#klasė sukūrimo metu turi nuskaityti failą, stulpelius skaičių suskirstyti\n",
    "# į sąrašus ir juos priskirti atributams X, Y ir Z.\n",
    "#Realizuokite metodus, kurie grąžintų X, Y, Z sąrašų vidurkius, minimalias\n",
    "# ir maksimalias vertes. Pythone yra min, max, sum funkcijos;\n",
    "\n",
    "class TxtAnalyzer():\n",
    "    def __init__(self, failas, skirtukas):\n",
    "        self.turinys = open(failas, mode='r', encoding='utf-8').readlines()\n",
    "        self.X = [float(eilute.split(skirtukas)[0]) for eilute in self.turinys]\n",
    "        self.Y = [float(eilute.split(skirtukas)[1]) for eilute in self.turinys]\n",
    "        self.Z = [float(eilute.split(skirtukas)[2]) for eilute in self.turinys]\n",
    "    def list_min(self):\n",
    "        return min(self.X), min(self.Y), min(self.Z)\n",
    "    def list_max(self):\n",
    "        return max(self.X), max(self.Y), max(self.Z)\n",
    "    def list_avg(self):\n",
    "        return sum(self.X)/len(self.X), sum(self.Y)/len(self.Y), sum(self.Z)/len(self.Z)"
   ]
  },
  {
   "cell_type": "code",
   "execution_count": 107,
   "metadata": {},
   "outputs": [
    {
     "name": "stdout",
     "output_type": "stream",
     "text": [
      "1.0\n",
      "0.0062\n",
      "0.2653\n",
      "49.7\n",
      "0.484531\n",
      "21.949302\n"
     ]
    }
   ],
   "source": [
    "failas = TxtAnalyzer('data1.txt', ';')\n",
    "a, b, c = failas.list_min()\n",
    "print(a, b, c, sep='\\n')\n",
    "d, e, f = failas.list_avg()\n",
    "print(d, e, f, sep='\\n')"
   ]
  },
  {
   "cell_type": "code",
   "execution_count": null,
   "metadata": {},
   "outputs": [],
   "source": [
    "class TxtAnalyzer():\n",
    "    def __init__(self, pav, skirtukas):\n",
    "        self.pavadinimas = pav\n",
    "        self.skirt = skirtukas\n",
    "        self.x = []\n",
    "        self.y = []\n",
    "        self.z = []\n",
    "        pass\n",
    "    def TxtReader(self):\n",
    "        fname = self.pavadinimas\n",
    "        f = open(fname, mode='r', encoding='utf-8')\n",
    "        tekstas = f.readlines()\n",
    "        print(tekstas)\n",
    "        f.close()\n",
    "        for x in tekstas:\n",
    "            self.x.append(float(x.split(self.skirt)[0]))\n",
    "            self.y.append(float(x.split(self.skirt)[1]))\n",
    "            self.z.append(float(x.split(self.skirt)[2]))\n",
    "        print(self.x)\n",
    "        print(self.y)\n",
    "        print(self.z)\n",
    "\n",
    "\n",
    "\n",
    "z = TxtAnalyzer('data/data0.txt',';')\n",
    "z.TxtReader()"
   ]
  },
  {
   "cell_type": "code",
   "execution_count": 108,
   "metadata": {},
   "outputs": [],
   "source": [
    "#Sukurkite klasę Rutulys\n",
    "#kuriai galėtumėte nurodyti Rutulio spindulį r.\n",
    "#Sukurkite metodus, skirtus rasti jo Tūriui ir paviršiaus plotui;\n",
    "#Taip pat metodą, kuriuo jūs pakeistumėte spindulio r reikšmę.\n",
    "\n",
    "class Sphere():\n",
    "    def __init__(self, r):\n",
    "        self.radius = r\n",
    "    \n",
    "    def GetVolume(self):\n",
    "        return 4/3*3.14*self.radius**3\n",
    "    \n",
    "    def GetSurfaceArea(self):\n",
    "        return 4*3.14*self.radius**2\n",
    "    \n",
    "    def SetRadius(self, new_radius):\n",
    "        self.radius = new_radius"
   ]
  },
  {
   "cell_type": "code",
   "execution_count": 111,
   "metadata": {},
   "outputs": [
    {
     "name": "stdout",
     "output_type": "stream",
     "text": [
      "14130.0\n",
      "2826.0\n",
      "33493.333333333336\n",
      "5024.0\n"
     ]
    }
   ],
   "source": [
    "rutulys = Sphere(15)\n",
    "print(rutulys.GetVolume(), rutulys.GetSurfaceArea(), sep='\\n')\n",
    "rutulys.SetRadius(20)\n",
    "print(rutulys.GetVolume(), rutulys.GetSurfaceArea(), sep='\\n')"
   ]
  },
  {
   "cell_type": "code",
   "execution_count": 162,
   "metadata": {},
   "outputs": [
    {
     "name": "stdout",
     "output_type": "stream",
     "text": [
      "200\n",
      "210\n",
      "70.0\n"
     ]
    }
   ],
   "source": [
    "#užduotis su paveldjimu:\n",
    "#parašykite klasę Rectangle, kurioje būtų ilgio ir pločio atributai, bei du metodai - getS - plotui ir getP -erimetrui rasti\n",
    "#Sukurkite išvestinę (child) klasę Kubas, kuri papildomai turėtų Tūrio skaičiavimo metodą\n",
    "#• Klasę Piramidė - išvestinė klasė (child class). Pridėkite\n",
    "# papildomą funkcionalumą - metodą, argumentus piramidės\n",
    "# tūrio skaičiavimui.\n",
    "\n",
    "a=()\n",
    "b=()\n",
    "c=()\n",
    "\n",
    "\n",
    "class Rectangle():\n",
    "    def __init__(self, a, b):\n",
    "        self.plotas = a*b\n",
    "        self.perimetras = 2*(a+b)\n",
    "    \n",
    "    def CalculatePlotas(self):\n",
    "        return self.plotas\n",
    "    \n",
    "    def CalculatePerimetras(self):\n",
    "        return self.perimetras\n",
    "\n",
    "class Kubas(Rectangle):\n",
    "    def __init__(self, a, b, c):\n",
    "        super().__init__(a, b)\n",
    "        self.turis = a*b*c\n",
    "    def CalculateTuris(self):\n",
    "        return self.turis\n",
    "\n",
    "staciakampis = Rectangle(10,20)\n",
    "gretasienis = Kubas(5,6,7)\n",
    "\n",
    "print(staciakampis.CalculatePlotas(), gretasienis.CalculateTuris(), sep='\\n')\n",
    "\n",
    "class Pyramid(Kubas):\n",
    "    def CalculateTuris(self):\n",
    "        return self.turis/3\n",
    "\n",
    "piramide = Pyramid(5,6,7)\n",
    "print(piramide.CalculateTuris())"
   ]
  },
  {
   "cell_type": "code",
   "execution_count": null,
   "metadata": {},
   "outputs": [],
   "source": [
    "#Parašykite klasę Apskritimas, kuriai glite nurodyti apskritimo spindulį r.\n",
    "# Erealizuokite du metodus getS ir getP, plotui ir perimetrui gražinti.\n",
    "\n",
    "#advanced Apskritimas:\n",
    "#padarykite taip, jog klasė Apskritimas turėtų atributus S ir P, plotui ir perimetrui, ir kad atnaujinus spindulį r, automatiškai pasikeistų S ir P atributų reikšmės, o getS, getP metodai, kaip ir anksčiau grąžintų S ir P atributų reikšmes.\n",
    "\n",
    "#advanced Apskritimas:\n",
    "#padarykite taip, jog klasė Apskritimas turėtų atributus S ir P, plotui ir perimetrui, \n",
    "# ir kad atnaujinus spindulį r, automatiškai pasikeistų S ir P atributų reikšmės, o getS, \n",
    "# getP metodai, kaip ir anksčiau grąžintų S ir P atributų reikšmes.\n",
    "class Apskritimas():\n",
    "    def __init__(self, r):\n",
    "        self.r = r\n",
    "        self.S = 2*3.14*r**2\n",
    "        self.P = 2*3.14*r\n",
    "        \n",
    "    def getS(self):\n",
    "        return self.S\n",
    "    \n",
    "    def getP (self):\n",
    "        return self.P\n",
    "    \n",
    "    def change (self, new_r):\n",
    "        self.r = new_r\n",
    "        self.S = 2*3.14*new_r**2\n",
    "        self.P = 2*3.14*new_r\n",
    "    \n",
    "aps = Apskritimas(5)\n",
    "print(aps.getS())\n",
    "print(aps.getP())\n",
    "aps.change(10)\n",
    "print(aps.getS())\n",
    "print(aps.getP())"
   ]
  },
  {
   "cell_type": "code",
   "execution_count": null,
   "metadata": {},
   "outputs": [],
   "source": [
    "#advanced Apskritimas:\n",
    "#padarykite taip, jog klasė Apskritimas turėtų atributus S ir P, plotui ir perimetrui, \n",
    "# ir kad atnaujinus spindulį r, automatiškai pasikeistų S ir P atributų reikšmės, o getS, \n",
    "# getP metodai, kaip ir anksčiau grąžintų S ir P atributų reikšmes.\n",
    "\n",
    "class Apskritimas():\n",
    "    def __init__(self, r):\n",
    "        self.R = r\n",
    "        self.S = 0\n",
    "        self.P = 0\n",
    "        self.upadeAll()\n",
    "    \n",
    "    def getP(self):\n",
    "        return self.P\n",
    "    \n",
    "    def getS(self):\n",
    "        return self.S\n",
    "    \n",
    "    def upadeAll(self):\n",
    "        self.S = 3.14*self.R**2\n",
    "        self.P = 2*3.14*self.R\n",
    "        \n",
    "    def change(self, new_r):\n",
    "        self.R = new_r\n",
    "        self.upadeAll()\n",
    "\n",
    "a = Apskritimas(5)\n",
    "print(a.getP(), a.getS())\n",
    "a.change(10)\n",
    "print(a.getP(), a.getS())"
   ]
  },
  {
   "cell_type": "code",
   "execution_count": 7,
   "metadata": {},
   "outputs": [
    {
     "name": "stdout",
     "output_type": "stream",
     "text": [
      "Toyota turi 10 sėdimų vietų\n",
      "Volvo turi 50 sėdimų vietų\n",
      "LG turi 100 sėdimų vietų\n"
     ]
    }
   ],
   "source": [
    "#su paveldėjimu:\n",
    "# Sukurkite klasę Vehicle su tokiais atributais - Pavadinimas, Rida\n",
    "#Sukurkite išvestines klases Car, Bus, Train, kurie paveldėtų viską iš Vehicle,\n",
    "# ir papildomai būtų galima nurodyti Seats - sėdimų vietų skaičių,\n",
    "# ir visi turėtų metoda GetSeats() grąžinantį tekstą: <Pavadinimas> turi <Seats> sėdimų vietų.\n",
    "\n",
    "# class Vehicle():\n",
    "#     def __init__(self, a, b):\n",
    "#         self.pavadinimas = a\n",
    "#         self.rida = b\n",
    "\n",
    "# class Car(Vehicle):\n",
    "#     def __init__(self, a, b, c):\n",
    "#         super().__init__(a, b)\n",
    "#         self.vietos = c\n",
    "#     def GetSeats(self):\n",
    "#         return f'{self.pavadinimas} turi {self.vietos} sėdimų vietų'\n",
    "    \n",
    "# class Bus(Vehicle):\n",
    "#     def __init__(self, a, b, c):\n",
    "#         super().__init__(a, b)\n",
    "#         self.vietos = c\n",
    "#     def GetSeats(self):\n",
    "#         return f'{self.pavadinimas} turi {self.vietos} sėdimų vietų'\n",
    "    \n",
    "# class Train(Vehicle):\n",
    "#     def __init__(self, a, b, c):\n",
    "#         super().__init__(a, b)\n",
    "#         self.vietos = c\n",
    "#     def GetSeats(self):\n",
    "#         return f'{self.pavadinimas} turi {self.vietos} sėdimų vietų'\n",
    "\n",
    "vehicle1 = Car('Toyota', 300000, 10)\n",
    "vehicle2 = Bus('Volvo', 500000, 50)\n",
    "vehicle3 = Train('LG', 400000, 100)\n",
    "print(vehicle1.GetSeats(), vehicle2.GetSeats(), vehicle3.GetSeats(), sep='\\n')"
   ]
  },
  {
   "cell_type": "code",
   "execution_count": 1,
   "metadata": {},
   "outputs": [
    {
     "name": "stdout",
     "output_type": "stream",
     "text": [
      "[0.25, 1.25, 2.25, 3.25, 4.25]\n"
     ]
    }
   ],
   "source": [
    "x = [1,2,3,4,5]\n",
    "\n",
    "y = [skaicius-0.75 for skaicius in x]\n",
    "print(y)"
   ]
  },
  {
   "cell_type": "code",
   "execution_count": 2,
   "metadata": {},
   "outputs": [],
   "source": [
    "import numpy as np"
   ]
  },
  {
   "cell_type": "code",
   "execution_count": 4,
   "metadata": {},
   "outputs": [
    {
     "name": "stdout",
     "output_type": "stream",
     "text": [
      "[0 2 4 6 8]\n"
     ]
    }
   ],
   "source": [
    "# array\n",
    "x = np.arange(0, 10, 2)\n",
    "print(x)"
   ]
  },
  {
   "cell_type": "code",
   "execution_count": 5,
   "metadata": {},
   "outputs": [
    {
     "name": "stdout",
     "output_type": "stream",
     "text": [
      "[-0.75  1.25  3.25  5.25  7.25]\n"
     ]
    }
   ],
   "source": [
    "y = x-0.75\n",
    "print(y)"
   ]
  },
  {
   "cell_type": "code",
   "execution_count": 6,
   "metadata": {},
   "outputs": [
    {
     "name": "stdout",
     "output_type": "stream",
     "text": [
      "4.0\n",
      "0\n",
      "8\n",
      "4.0\n",
      "4.0\n"
     ]
    }
   ],
   "source": [
    "print(np.average(x))\n",
    "print(np.min(x))\n",
    "print(np.max(x))\n",
    "print(np.mean(x))\n",
    "print(np.median(x))"
   ]
  },
  {
   "cell_type": "code",
   "execution_count": 7,
   "metadata": {},
   "outputs": [
    {
     "name": "stdout",
     "output_type": "stream",
     "text": [
      "[1, 2, 3, 4, 5, 6, 7, 8, 9, 10]\n"
     ]
    }
   ],
   "source": [
    "a_list = [i for i in range(1,11)]\n",
    "print(a_list)"
   ]
  },
  {
   "cell_type": "code",
   "execution_count": 8,
   "metadata": {},
   "outputs": [
    {
     "name": "stdout",
     "output_type": "stream",
     "text": [
      "[ 1.75  2.75  3.75  4.75  5.75  6.75  7.75  8.75  9.75 10.75]\n"
     ]
    }
   ],
   "source": [
    "a_array = np.asarray(a_list)\n",
    "print(a_array+0.75)"
   ]
  },
  {
   "cell_type": "code",
   "execution_count": 9,
   "metadata": {},
   "outputs": [
    {
     "name": "stdout",
     "output_type": "stream",
     "text": [
      "[ 1  8 15]\n"
     ]
    }
   ],
   "source": [
    "x = [1,2,3]\n",
    "y = [1,4,5]\n",
    "x_np = np.asarray(x)\n",
    "y_np = np.asarray(y)\n",
    "c = x_np*y_np\n",
    "print(c)"
   ]
  },
  {
   "cell_type": "code",
   "execution_count": 11,
   "metadata": {},
   "outputs": [
    {
     "name": "stdout",
     "output_type": "stream",
     "text": [
      "93\n"
     ]
    }
   ],
   "source": [
    "print(np.random.randint(0,100))"
   ]
  },
  {
   "cell_type": "code",
   "execution_count": 15,
   "metadata": {},
   "outputs": [
    {
     "name": "stdout",
     "output_type": "stream",
     "text": [
      "[98 78 12 56 48 73 31 72 44 98]\n"
     ]
    }
   ],
   "source": [
    "print(np.random.randint(0,100, 10))"
   ]
  },
  {
   "cell_type": "code",
   "execution_count": 13,
   "metadata": {},
   "outputs": [
    {
     "name": "stdout",
     "output_type": "stream",
     "text": [
      "0.607440619878876\n"
     ]
    }
   ],
   "source": [
    "atsitiktinis_float = np.random.rand()\n",
    "print(atsitiktinis_float)"
   ]
  },
  {
   "cell_type": "code",
   "execution_count": 14,
   "metadata": {},
   "outputs": [
    {
     "name": "stdout",
     "output_type": "stream",
     "text": [
      "[0.77246994 0.53232951 0.86289287 0.1261895  0.82432188 0.03271434\n",
      " 0.94616652 0.63766508 0.60466186 0.04121339 0.72314707 0.90894718\n",
      " 0.96914774 0.58780702 0.39691805 0.26970727 0.32151629 0.22808912\n",
      " 0.90709333 0.56328293 0.83913116 0.76436422 0.64227273 0.61994407\n",
      " 0.2773518  0.64756477 0.55539894 0.21122625 0.79135775 0.78143063\n",
      " 0.84315632 0.72176521 0.35866794 0.64461912 0.41316847 0.26283588\n",
      " 0.25043961 0.84986932 0.66556985 0.53954869 0.51270769 0.76598708\n",
      " 0.32551728 0.08763635 0.95194941 0.75030258 0.2758804  0.54534873\n",
      " 0.27971695 0.5827433  0.64866229 0.92000795 0.57988751 0.41365229\n",
      " 0.72391474 0.93910905 0.43201628 0.80999487 0.34767633 0.78160631\n",
      " 0.87128958 0.27782835 0.18597007 0.80019628 0.30942275 0.81066205\n",
      " 0.8500731  0.15000806 0.43451887 0.86625514 0.15521295 0.71518379\n",
      " 0.74114102 0.23537851 0.6847742  0.30318183 0.92520949 0.41067679\n",
      " 0.95284509 0.32521762 0.47948879 0.79336869 0.19653008 0.82225451\n",
      " 0.28464378 0.02692785 0.86506102 0.80913143 0.41559071 0.96611907\n",
      " 0.35240936 0.68411808 0.54160952 0.42263603 0.88108023 0.99512515\n",
      " 0.54885708 0.75293289 0.51427881 0.63617015]\n"
     ]
    }
   ],
   "source": [
    "atsitiktinis_float = np.random.rand(100)\n",
    "print(atsitiktinis_float)"
   ]
  },
  {
   "cell_type": "code",
   "execution_count": 19,
   "metadata": {},
   "outputs": [
    {
     "name": "stdout",
     "output_type": "stream",
     "text": [
      "5.5\n",
      "5.5\n",
      "5.697459209571594\n",
      "6.0\n"
     ]
    }
   ],
   "source": [
    "xas = np.random.randint(1,10,100)\n",
    "svoriai = np.random.rand(100)\n",
    "vidurkis = np.mean(xas)\n",
    "print(vidurkis)\n",
    "sv_vid = np.average(xas)\n",
    "print(sv_vid)\n",
    "sv_vid2 = np.average(xas, weights=svoriai)\n",
    "print(sv_vid2)\n",
    "print(np.median(xas))"
   ]
  },
  {
   "cell_type": "code",
   "execution_count": 20,
   "metadata": {},
   "outputs": [
    {
     "name": "stdout",
     "output_type": "stream",
     "text": [
      "[ 1.          1.18367347  1.36734694  1.55102041  1.73469388  1.91836735\n",
      "  2.10204082  2.28571429  2.46938776  2.65306122  2.83673469  3.02040816\n",
      "  3.20408163  3.3877551   3.57142857  3.75510204  3.93877551  4.12244898\n",
      "  4.30612245  4.48979592  4.67346939  4.85714286  5.04081633  5.2244898\n",
      "  5.40816327  5.59183673  5.7755102   5.95918367  6.14285714  6.32653061\n",
      "  6.51020408  6.69387755  6.87755102  7.06122449  7.24489796  7.42857143\n",
      "  7.6122449   7.79591837  7.97959184  8.16326531  8.34693878  8.53061224\n",
      "  8.71428571  8.89795918  9.08163265  9.26530612  9.44897959  9.63265306\n",
      "  9.81632653 10.        ]\n"
     ]
    }
   ],
   "source": [
    "l = np.linspace(1,10)\n",
    "print(l)"
   ]
  },
  {
   "cell_type": "code",
   "execution_count": 21,
   "metadata": {},
   "outputs": [
    {
     "name": "stdout",
     "output_type": "stream",
     "text": [
      "[ 1.  2.  3.  4.  5.  6.  7.  8.  9. 10.]\n"
     ]
    }
   ],
   "source": [
    "l = np.linspace(1,10,10)\n",
    "print(l)"
   ]
  },
  {
   "cell_type": "code",
   "execution_count": 27,
   "metadata": {},
   "outputs": [
    {
     "name": "stdout",
     "output_type": "stream",
     "text": [
      "[ 0.  1.  2.  3.  4.  5.  6.  7.  8.  9. 10.]\n"
     ]
    }
   ],
   "source": [
    "l = np.linspace(0,10,11)\n",
    "print(l)"
   ]
  },
  {
   "cell_type": "code",
   "execution_count": 28,
   "metadata": {},
   "outputs": [
    {
     "name": "stdout",
     "output_type": "stream",
     "text": [
      "[ 0.          0.71428571  1.42857143  2.14285714  2.85714286  3.57142857\n",
      "  4.28571429  5.          5.71428571  6.42857143  7.14285714  7.85714286\n",
      "  8.57142857  9.28571429 10.        ]\n"
     ]
    }
   ],
   "source": [
    "l = np.linspace(0,10,15)\n",
    "print(l)"
   ]
  },
  {
   "cell_type": "code",
   "execution_count": 29,
   "metadata": {},
   "outputs": [
    {
     "name": "stdout",
     "output_type": "stream",
     "text": [
      "[0.         0.66666667 1.33333333 2.         2.66666667 3.33333333\n",
      " 4.         4.66666667 5.33333333 6.         6.66666667 7.33333333\n",
      " 8.         8.66666667 9.33333333]\n"
     ]
    }
   ],
   "source": [
    "l = np.linspace(0,10,15, endpoint=False)\n",
    "print(l)"
   ]
  },
  {
   "cell_type": "code",
   "execution_count": 33,
   "metadata": {},
   "outputs": [
    {
     "name": "stdout",
     "output_type": "stream",
     "text": [
      "9\n",
      "9\n",
      "4.5\n",
      "0\n"
     ]
    }
   ],
   "source": [
    "n_np = np.arange(0,10)\n",
    "# kaip metodai\n",
    "print(n_np.max())\n",
    "print(max(n_np))\n",
    "print(n_np.mean())\n",
    "print(n_np.min())"
   ]
  },
  {
   "cell_type": "code",
   "execution_count": null,
   "metadata": {},
   "outputs": [],
   "source": [
    "# kam šita?\n",
    "%load_ext autoreload"
   ]
  },
  {
   "cell_type": "code",
   "execution_count": null,
   "metadata": {},
   "outputs": [],
   "source": [
    "# kam šita?\n",
    "%autoreload 2"
   ]
  },
  {
   "cell_type": "code",
   "execution_count": 2,
   "metadata": {},
   "outputs": [],
   "source": [
    "import modulis"
   ]
  },
  {
   "cell_type": "code",
   "execution_count": 3,
   "metadata": {},
   "outputs": [
    {
     "name": "stdout",
     "output_type": "stream",
     "text": [
      "Toyota turi 10 sėdimų vietų\n",
      "Volvo turi 50 sėdimų vietų\n",
      "LG turi 100 sėdimų vietų\n"
     ]
    }
   ],
   "source": [
    "vehicle1 = modulis.Car('Toyota', 300000, 10)\n",
    "vehicle2 = modulis.Bus('Volvo', 500000, 50)\n",
    "vehicle3 = modulis.Train('LG', 400000, 100)\n",
    "print(vehicle1.GetSeats(), vehicle2.GetSeats(), vehicle3.GetSeats(), sep='\\n')"
   ]
  },
  {
   "cell_type": "code",
   "execution_count": 39,
   "metadata": {},
   "outputs": [],
   "source": [
    "#sukurkite failus nuskaitančią klasę, ji turi būti aprašyta jūsų kuriamame modulyje;\n",
    "#ta klasė turi nuskaityti pateiktą failą, ir suskaidyti stulpelius į sąrašus:\n",
    "#sąrašai I, U, j, P, duomenys iš juos iš atitinkamų taip pat pavadintų stulpelių\n",
    "#realizuokite tai, jog klasė rastų tokį dydį - maksimalų P, suskaičiuotų tokį dydį pce = Pmax / 1000 * 100%;\n",
    "#šie dydžiai turi būti pasiekiamį arba kaip atributas, arba galite įdėti metodą jam gauti\n",
    "\n",
    "# class ReadFilesJono():\n",
    "#     def __init__(self, file):\n",
    "#         file_content = open(file, mode='r', encoding='utf-8').readlines()\n",
    "#         self.U = [float(eilute.split(';')[0]) for eilute in file_content[1:]]\n",
    "#         self.I = []\n",
    "#         for eilute in file_content[1:]:\n",
    "#             try:\n",
    "#                 self.I.append(float(eilute.split(';')[1]))\n",
    "#             except:\n",
    "#                 self.I.append(float(0))\n",
    "#         self.j = [float(eilute.split(';')[2]) for eilute in file_content[1:]]\n",
    "#         self.P = [float(eilute.split(';')[3].strip()) for eilute in file_content[1:]]\n",
    "#         self.max_P = max(self.P)\n",
    "#         self.pce = f'{self.max_P/1000*100}%' \n",
    "#         self.U_when_j_zero = [U for U, j in zip(self.U, self.j) if round(j, 0) == 0]\n",
    "#         self.j_when_U_zero = [j for U, j in zip(self.U, self.j) if round(U, 0) == 0]\n",
    "#         print(self.U_when_j_zero)\n"
   ]
  },
  {
   "cell_type": "code",
   "execution_count": 1,
   "metadata": {},
   "outputs": [
    {
     "name": "stdout",
     "output_type": "stream",
     "text": [
      "c:\\Users\\User\\OneDrive\\Stalinis kompiuteris\\Python mokymai\\GIT_Repository\\python_mokymai\n",
      "c:\\Users\\User\\OneDrive\\Stalinis kompiuteris\\Python mokymai\n",
      "[14.9012, 11.0532262, 8.5054112, 6.25028, 4.2308987, 2.4865837, 0.9452886, -0.3914982, -1.4925188, -2.4702462, -3.22762, -3.8494512, -4.3999025, -4.8577025, -5.2581838, -5.640395, -5.9576813, -6.2209775, -6.4703212, -6.707795, -6.8878487, -7.095295, -7.2327912, -7.4043387, -7.535765, -7.6644625, -7.7971937, -7.9071088, -8.0151288, -8.1142225, -8.1840213, -8.2883813, -8.3483275, -8.4491925, -8.536865, -8.61116, -8.6619513, -8.7167575, -8.7752387, -8.847965, -8.9324613, -8.9389112, -9.0025137, -9.0146713, -9.1136525, -9.1544038, -9.2018787, -9.2303375, -9.251265, -9.2749937, -9.3266075, -9.3552425, -9.4106112, -9.4215063, -9.4691725, -9.4935375, -9.5230788, -9.5530775, -9.5864112, -9.6139637, -9.5779563]\n",
      "17.88144\n",
      "1.7881440000000002%\n",
      "[1.0366667]\n",
      "[-8.1840213, -8.2883813, -8.3483275, -8.4491925, -8.536865, -8.61116, -8.6619513, -8.7167575, -8.7752387, -8.847965, -8.9324613, -8.9389112, -9.0025137, -9.0146713, -9.1136525, -9.1544038, -9.2018787, -9.2303375, -9.251265, -9.2749937, -9.3266075, -9.3552425, -9.4106112, -9.4215063, -9.4691725, -9.4935375, -9.5230788, -9.5530775, -9.5864112, -9.6139637, -9.5779563]\n"
     ]
    }
   ],
   "source": [
    "import os\n",
    "print(os.getcwd())\n",
    "os.chdir('../../')\n",
    "print(os.getcwd())\n",
    "import ReadFilesJono as rfj\n",
    "file_name = 'REF_D_2k_FW_2.03.dat'\n",
    "file = rfj.ReadFilesJono(file_name)\n",
    "print(file.j)\n",
    "print(file.max_P)\n",
    "print(file.pce)\n",
    "print(file.U_when_j_zero)\n",
    "print(file.j_when_U_zero)"
   ]
  }
 ],
 "metadata": {
  "kernelspec": {
   "display_name": "Python 3",
   "language": "python",
   "name": "python3"
  },
  "language_info": {
   "codemirror_mode": {
    "name": "ipython",
    "version": 3
   },
   "file_extension": ".py",
   "mimetype": "text/x-python",
   "name": "python",
   "nbconvert_exporter": "python",
   "pygments_lexer": "ipython3",
   "version": "3.12.2"
  }
 },
 "nbformat": 4,
 "nbformat_minor": 2
}
