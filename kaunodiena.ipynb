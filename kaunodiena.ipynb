{
 "cells": [
  {
   "cell_type": "code",
   "execution_count": 1,
   "metadata": {},
   "outputs": [
    {
     "name": "stdout",
     "output_type": "stream",
     "text": [
      "c:\\Users\\User\\OneDrive\\Stalinis kompiuteris\\Python mokymai\\GIT_Repository\\python_mokymai\n"
     ]
    }
   ],
   "source": [
    "#standartiniai moduliai\n",
    "import numpy as np\n",
    "import numpy.polynomial.polynomial as poly\n",
    "import pandas as pd\n",
    "import matplotlib.pyplot as plt\n",
    "import matplotlib as mpl\n",
    "from datetime import datetime\n",
    "from dateutil import parser\n",
    "import mysql.connector as cnt\n",
    "#import panel as pn\n",
    "#pn.extension()\n",
    "import seaborn as sns\n",
    "import os, sys\n",
    "print(os.getcwd())\n",
    "fontsize=16 #for all entries\n",
    "titlesize=24\n",
    "labelsize=16\n",
    "fwidth=6\n",
    "fheight=4"
   ]
  },
  {
   "cell_type": "code",
   "execution_count": 2,
   "metadata": {},
   "outputs": [
    {
     "data": {
      "text/html": [
       "<div>\n",
       "<style scoped>\n",
       "    .dataframe tbody tr th:only-of-type {\n",
       "        vertical-align: middle;\n",
       "    }\n",
       "\n",
       "    .dataframe tbody tr th {\n",
       "        vertical-align: top;\n",
       "    }\n",
       "\n",
       "    .dataframe thead th {\n",
       "        text-align: right;\n",
       "    }\n",
       "</style>\n",
       "<table border=\"1\" class=\"dataframe\">\n",
       "  <thead>\n",
       "    <tr style=\"text-align: right;\">\n",
       "      <th></th>\n",
       "      <th>index</th>\n",
       "      <th>article_name</th>\n",
       "    </tr>\n",
       "  </thead>\n",
       "  <tbody>\n",
       "    <tr>\n",
       "      <th>0</th>\n",
       "      <td>0</td>\n",
       "      <td>Landynė daugiabutyje: ar gali būti blogiau?</td>\n",
       "    </tr>\n",
       "    <tr>\n",
       "      <th>1</th>\n",
       "      <td>1</td>\n",
       "      <td>Smarkios avarijos Ramučiuose liudininkai: kalt...</td>\n",
       "    </tr>\n",
       "    <tr>\n",
       "      <th>2</th>\n",
       "      <td>2</td>\n",
       "      <td>Už šūkį „šlovė Ukrainai“ – išpuoliai prieš lie...</td>\n",
       "    </tr>\n",
       "    <tr>\n",
       "      <th>3</th>\n",
       "      <td>3</td>\n",
       "      <td>Kauno centre – girto vairuotojo šou: nukentėjo...</td>\n",
       "    </tr>\n",
       "    <tr>\n",
       "      <th>4</th>\n",
       "      <td>4</td>\n",
       "      <td>„Vičiūnų grupė“ pardavė gamyklą Kaliningrade</td>\n",
       "    </tr>\n",
       "  </tbody>\n",
       "</table>\n",
       "</div>"
      ],
      "text/plain": [
       "   index                                       article_name\n",
       "0      0        Landynė daugiabutyje: ar gali būti blogiau?\n",
       "1      1  Smarkios avarijos Ramučiuose liudininkai: kalt...\n",
       "2      2  Už šūkį „šlovė Ukrainai“ – išpuoliai prieš lie...\n",
       "3      3  Kauno centre – girto vairuotojo šou: nukentėjo...\n",
       "4      4     „Vičiūnų grupė“ pardavė gamyklą Kaliningrade  "
      ]
     },
     "execution_count": 2,
     "metadata": {},
     "output_type": "execute_result"
    }
   ],
   "source": [
    "#Surinkite visus kauno dienos straipsnių pavadinimus į pandas dataframe.\n",
    "#pridėkite naują stulpelį, kuriame būtų žodžių kiekis kiekviename pavadinime\n",
    "#pridėkite naują stulpelį, kuriame būtų pavadinime esančių simbolių kiekis\n",
    "#eksportuokite tai į CSV failą\n",
    "#eksportuotą CSV failą nuskaitykite su pandas\n",
    "#Koks vidutinis žodžių kiekis pavadinimuose? \n",
    "#Advanced: suraskite dažniausiai pasikartojantį žodį pavadinimuose.\n",
    "#Po kiek pavadinimų turėjo vienodą žodžių kiekį? Atsakymui pateikite vizualizaciją (grafiką)\n",
    "\n",
    "article_names = pd.read_csv('kaunodiena.csv', sep=';')['article_name'].reset_index()\n",
    "article_names.head()"
   ]
  },
  {
   "cell_type": "code",
   "execution_count": 3,
   "metadata": {},
   "outputs": [
    {
     "name": "stdout",
     "output_type": "stream",
     "text": [
      "9.211382113821138\n"
     ]
    },
    {
     "data": {
      "text/html": [
       "<div>\n",
       "<style scoped>\n",
       "    .dataframe tbody tr th:only-of-type {\n",
       "        vertical-align: middle;\n",
       "    }\n",
       "\n",
       "    .dataframe tbody tr th {\n",
       "        vertical-align: top;\n",
       "    }\n",
       "\n",
       "    .dataframe thead th {\n",
       "        text-align: right;\n",
       "    }\n",
       "</style>\n",
       "<table border=\"1\" class=\"dataframe\">\n",
       "  <thead>\n",
       "    <tr style=\"text-align: right;\">\n",
       "      <th></th>\n",
       "      <th>zodis</th>\n",
       "      <th>count</th>\n",
       "    </tr>\n",
       "  </thead>\n",
       "  <tbody>\n",
       "    <tr>\n",
       "      <th>0</th>\n",
       "      <td>–</td>\n",
       "      <td>33</td>\n",
       "    </tr>\n",
       "    <tr>\n",
       "      <th>1</th>\n",
       "      <td>ir</td>\n",
       "      <td>17</td>\n",
       "    </tr>\n",
       "    <tr>\n",
       "      <th>2</th>\n",
       "      <td>į</td>\n",
       "      <td>9</td>\n",
       "    </tr>\n",
       "    <tr>\n",
       "      <th>3</th>\n",
       "      <td>su</td>\n",
       "      <td>7</td>\n",
       "    </tr>\n",
       "    <tr>\n",
       "      <th>4</th>\n",
       "      <td>„Kauno</td>\n",
       "      <td>7</td>\n",
       "    </tr>\n",
       "  </tbody>\n",
       "</table>\n",
       "</div>"
      ],
      "text/plain": [
       "    zodis  count\n",
       "0       –     33\n",
       "1      ir     17\n",
       "2       į      9\n",
       "3      su      7\n",
       "4  „Kauno      7"
      ]
     },
     "execution_count": 3,
     "metadata": {},
     "output_type": "execute_result"
    }
   ],
   "source": [
    "def count_words(a): return len(a.split())\n",
    "def count_symbols(a): return len(a)\n",
    "\n",
    "article_names['word_count'] = article_names['article_name'].apply(count_words)\n",
    "article_names['symbol_count'] = article_names['article_name'].apply(count_symbols)\n",
    "\n",
    "article_names.to_csv('kauno_diena_article_names.csv', sep='|')\n",
    "\n",
    "article_names = pd.read_csv('kauno_diena_article_names.csv', sep='|')[['article_name', 'word_count', 'symbol_count']]\n",
    "article_names.head()\n",
    "\n",
    "print(article_names['word_count'].mean())\n",
    "\n",
    "zodziai = []\n",
    "for article in article_names['article_name']:\n",
    "    for zodis in article.split():\n",
    "        zodziai.append(zodis)\n",
    "\n",
    "zodziai_table = pd.DataFrame()\n",
    "zodziai_table['zodis'] = zodziai\n",
    "zodziai_table.groupby('zodis').value_counts().sort_values(ascending=False).reset_index().head(5)"
   ]
  },
  {
   "cell_type": "code",
   "execution_count": 15,
   "metadata": {},
   "outputs": [
    {
     "data": {
      "image/png": "[encoded data removed]",
      "text/plain": [
       "<Figure size 640x480 with 1 Axes>"
      ]
     },
     "metadata": {},
     "output_type": "display_data"
    }
   ],
   "source": [
    "fig, axis = plt.subplots()\n",
    "#plotting code:\n",
    "bar_data = article_names['word_count'].value_counts().reset_index()\n",
    "axis.bar(bar_data['word_count'], bar_data['count'])\n",
    "axis.set_title('Straipsnių kiekis pagal žodžių kiekį pavadinime')\n",
    "axis.set_xlabel('Žodžių kiekis pavadinime')\n",
    "axis.set_ylabel('Straipsnių kiekis')\n",
    "axis.set_xticks(bar_data['word_count'])\n",
    "#axis.legend(loc='best')\n",
    "#axis.ticklabel_format(style='plain')\n",
    "fig.tight_layout()\n",
    "plt.show()"
   ]
  },
  {
   "cell_type": "code",
   "execution_count": null,
   "metadata": {},
   "outputs": [],
   "source": [
    "#kas atliko šią užduotį: turit likus į kiekvieną straipsnį konkrečiai.\n",
    "# Surinkite tokią statistiką - kiek žodžių turi straipsniai?\n",
    "# Koks vidutinis žodžių kiekis? Kiek yra straipsnių, kurių žodžių kiekis yra mažesnis, didesnis už vidurkį?\n",
    "# Kokia žodžių kiekio mediana?"
   ]
  },
  {
   "cell_type": "code",
   "execution_count": null,
   "metadata": {},
   "outputs": [],
   "source": [
    "#standartiniai moduliai\n",
    "import numpy as np\n",
    "import numpy.polynomial.polynomial as poly\n",
    "import pandas as pd\n",
    "import matplotlib.pyplot as plt\n",
    "import matplotlib as mpl\n",
    "from datetime import datetime\n",
    "from dateutil import parser\n",
    "import mysql.connector as cnt\n",
    "#import panel as pn\n",
    "#pn.extension()\n",
    "import seaborn as sns\n",
    "import os, sys\n",
    "print(os.getcwd())\n",
    "fontsize=16 #for all entries\n",
    "titlesize=24\n",
    "labelsize=16\n",
    "fwidth=6\n",
    "fheight=4"
   ]
  },
  {
   "cell_type": "code",
   "execution_count": null,
   "metadata": {},
   "outputs": [],
   "source": [
    "straipniai = pd.read_csv('kaunodienatekstai.csv', sep='|')\n",
    "straipniai.head()\n",
    "\n",
    "# def count_words(a): return len(a.split())\n",
    "# article_names['word_count'] = article_names['article_name'].apply(count_words)\n",
    "# print(article_names['word_count'].mean())"
   ]
  }
 ],
 "metadata": {
  "kernelspec": {
   "display_name": "Python 3",
   "language": "python",
   "name": "python3"
  },
  "language_info": {
   "codemirror_mode": {
    "name": "ipython",
    "version": 3
   },
   "file_extension": ".py",
   "mimetype": "text/x-python",
   "name": "python",
   "nbconvert_exporter": "python",
   "pygments_lexer": "ipython3",
   "version": "3.12.2"
  }
 },
 "nbformat": 4,
 "nbformat_minor": 2
}
